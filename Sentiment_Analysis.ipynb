{
  "nbformat": 4,
  "nbformat_minor": 0,
  "metadata": {
    "colab": {
      "name": "Sentiment Analysis.ipynb",
      "provenance": [],
      "mount_file_id": "11SaNXgF3hOI2_sJPIpHxQzwW-8T_zcKJ",
      "authorship_tag": "ABX9TyNOaspweAh5H1ByS6tAq+YU",
      "include_colab_link": true
    },
    "kernelspec": {
      "name": "python3",
      "display_name": "Python 3"
    }
  },
  "cells": [
    {
      "cell_type": "markdown",
      "metadata": {
        "id": "view-in-github",
        "colab_type": "text"
      },
      "source": [
        "<a href=\"https://colab.research.google.com/github/Ishgar14/Sentiment-Analysis---Major-Project/blob/main/Sentiment_Analysis.ipynb\" target=\"_parent\"><img src=\"https://colab.research.google.com/assets/colab-badge.svg\" alt=\"Open In Colab\"/></a>"
      ]
    },
    {
      "cell_type": "code",
      "metadata": {
        "colab": {
          "base_uri": "https://localhost:8080/"
        },
        "id": "_iDgZMo_zJ4d",
        "outputId": "621f9aac-65fd-46b9-80b5-73c7ceb16b6d"
      },
      "source": [
        "!pip install vaderSentiment\r\n",
        "!pip install contractions"
      ],
      "execution_count": 1,
      "outputs": [
        {
          "output_type": "stream",
          "text": [
            "Requirement already satisfied: vaderSentiment in /usr/local/lib/python3.7/dist-packages (3.3.2)\n",
            "Requirement already satisfied: requests in /usr/local/lib/python3.7/dist-packages (from vaderSentiment) (2.23.0)\n",
            "Requirement already satisfied: chardet<4,>=3.0.2 in /usr/local/lib/python3.7/dist-packages (from requests->vaderSentiment) (3.0.4)\n",
            "Requirement already satisfied: idna<3,>=2.5 in /usr/local/lib/python3.7/dist-packages (from requests->vaderSentiment) (2.10)\n",
            "Requirement already satisfied: urllib3!=1.25.0,!=1.25.1,<1.26,>=1.21.1 in /usr/local/lib/python3.7/dist-packages (from requests->vaderSentiment) (1.24.3)\n",
            "Requirement already satisfied: certifi>=2017.4.17 in /usr/local/lib/python3.7/dist-packages (from requests->vaderSentiment) (2020.12.5)\n",
            "Requirement already satisfied: contractions in /usr/local/lib/python3.7/dist-packages (0.0.48)\n",
            "Requirement already satisfied: textsearch>=0.0.21 in /usr/local/lib/python3.7/dist-packages (from contractions) (0.0.21)\n",
            "Requirement already satisfied: pyahocorasick in /usr/local/lib/python3.7/dist-packages (from textsearch>=0.0.21->contractions) (1.4.1)\n",
            "Requirement already satisfied: anyascii in /usr/local/lib/python3.7/dist-packages (from textsearch>=0.0.21->contractions) (0.1.7)\n"
          ],
          "name": "stdout"
        }
      ]
    },
    {
      "cell_type": "code",
      "metadata": {
        "id": "3w2aFlU9zSdD"
      },
      "source": [
        "from vaderSentiment.vaderSentiment import SentimentIntensityAnalyzer\r\n",
        "vs = SentimentIntensityAnalyzer()"
      ],
      "execution_count": 2,
      "outputs": []
    },
    {
      "cell_type": "code",
      "metadata": {
        "colab": {
          "base_uri": "https://localhost:8080/"
        },
        "id": "osngXgOEzmy7",
        "outputId": "8a44919f-1b1b-48cc-e857-6f5714d05992"
      },
      "source": [
        "text = 'I love games'\r\n",
        "print(vs.polarity_scores(text))\r\n",
        "print(vs.polarity_scores(\"I'm okay with movies\"))"
      ],
      "execution_count": 3,
      "outputs": [
        {
          "output_type": "stream",
          "text": [
            "{'neg': 0.0, 'neu': 0.323, 'pos': 0.677, 'compound': 0.6369}\n",
            "{'neg': 0.0, 'neu': 0.612, 'pos': 0.388, 'compound': 0.2263}\n"
          ],
          "name": "stdout"
        }
      ]
    },
    {
      "cell_type": "code",
      "metadata": {
        "id": "Q3XT4qIT2SRj"
      },
      "source": [
        "import pandas as pd\r\n",
        "import numpy as np\r\n",
        "import os, re\r\n",
        "from sklearn import tree, model_selection, ensemble\r\n",
        "from sklearn.feature_extraction.text import TfidfVectorizer"
      ],
      "execution_count": 4,
      "outputs": []
    },
    {
      "cell_type": "code",
      "metadata": {
        "id": "F5l3MguLg5CN",
        "colab": {
          "base_uri": "https://localhost:8080/",
          "height": 402
        },
        "outputId": "791c579b-9f6c-4c56-a21b-b3f0459720a6"
      },
      "source": [
        "# DATADIR = '/content/drive/MyDrive/Colab Notebooks/training.1600000.processed.noemoticon.csv'\r\n",
        "DATADIR = '/content/drive/MyDrive/Colab Notebooks/testdata.manual.2009.06.14.csv'\r\n",
        "\r\n",
        "col_names = ['Polarity', 'ID', 'Date', 'Query', 'User', 'Tweet']\r\n",
        "\r\n",
        "df = pd.read_csv(DATADIR, encoding='latin-1', header=0, names=col_names)\r\n",
        "df = df.drop(['ID', 'Date', 'Query', 'User'], axis=1)  # I dont want date, user, etc now so I'll remove them\r\n",
        "df"
      ],
      "execution_count": 5,
      "outputs": [
        {
          "output_type": "execute_result",
          "data": {
            "text/html": [
              "<div>\n",
              "<style scoped>\n",
              "    .dataframe tbody tr th:only-of-type {\n",
              "        vertical-align: middle;\n",
              "    }\n",
              "\n",
              "    .dataframe tbody tr th {\n",
              "        vertical-align: top;\n",
              "    }\n",
              "\n",
              "    .dataframe thead th {\n",
              "        text-align: right;\n",
              "    }\n",
              "</style>\n",
              "<table border=\"1\" class=\"dataframe\">\n",
              "  <thead>\n",
              "    <tr style=\"text-align: right;\">\n",
              "      <th></th>\n",
              "      <th>Polarity</th>\n",
              "      <th>Tweet</th>\n",
              "    </tr>\n",
              "  </thead>\n",
              "  <tbody>\n",
              "    <tr>\n",
              "      <th>0</th>\n",
              "      <td>4</td>\n",
              "      <td>Reading my kindle2...  Love it... Lee childs i...</td>\n",
              "    </tr>\n",
              "    <tr>\n",
              "      <th>1</th>\n",
              "      <td>4</td>\n",
              "      <td>Ok, first assesment of the #kindle2 ...it fuck...</td>\n",
              "    </tr>\n",
              "    <tr>\n",
              "      <th>2</th>\n",
              "      <td>4</td>\n",
              "      <td>@kenburbary You'll love your Kindle2. I've had...</td>\n",
              "    </tr>\n",
              "    <tr>\n",
              "      <th>3</th>\n",
              "      <td>4</td>\n",
              "      <td>@mikefish  Fair enough. But i have the Kindle2...</td>\n",
              "    </tr>\n",
              "    <tr>\n",
              "      <th>4</th>\n",
              "      <td>4</td>\n",
              "      <td>@richardebaker no. it is too big. I'm quite ha...</td>\n",
              "    </tr>\n",
              "    <tr>\n",
              "      <th>...</th>\n",
              "      <td>...</td>\n",
              "      <td>...</td>\n",
              "    </tr>\n",
              "    <tr>\n",
              "      <th>492</th>\n",
              "      <td>2</td>\n",
              "      <td>Ask Programming: LaTeX or InDesign?: submitted...</td>\n",
              "    </tr>\n",
              "    <tr>\n",
              "      <th>493</th>\n",
              "      <td>0</td>\n",
              "      <td>On that note, I hate Word. I hate Pages. I hat...</td>\n",
              "    </tr>\n",
              "    <tr>\n",
              "      <th>494</th>\n",
              "      <td>4</td>\n",
              "      <td>Ahhh... back in a *real* text editing environm...</td>\n",
              "    </tr>\n",
              "    <tr>\n",
              "      <th>495</th>\n",
              "      <td>0</td>\n",
              "      <td>Trouble in Iran, I see. Hmm. Iran. Iran so far...</td>\n",
              "    </tr>\n",
              "    <tr>\n",
              "      <th>496</th>\n",
              "      <td>0</td>\n",
              "      <td>Reading the tweets coming out of Iran... The w...</td>\n",
              "    </tr>\n",
              "  </tbody>\n",
              "</table>\n",
              "<p>497 rows × 2 columns</p>\n",
              "</div>"
            ],
            "text/plain": [
              "     Polarity                                              Tweet\n",
              "0           4  Reading my kindle2...  Love it... Lee childs i...\n",
              "1           4  Ok, first assesment of the #kindle2 ...it fuck...\n",
              "2           4  @kenburbary You'll love your Kindle2. I've had...\n",
              "3           4  @mikefish  Fair enough. But i have the Kindle2...\n",
              "4           4  @richardebaker no. it is too big. I'm quite ha...\n",
              "..        ...                                                ...\n",
              "492         2  Ask Programming: LaTeX or InDesign?: submitted...\n",
              "493         0  On that note, I hate Word. I hate Pages. I hat...\n",
              "494         4  Ahhh... back in a *real* text editing environm...\n",
              "495         0  Trouble in Iran, I see. Hmm. Iran. Iran so far...\n",
              "496         0  Reading the tweets coming out of Iran... The w...\n",
              "\n",
              "[497 rows x 2 columns]"
            ]
          },
          "metadata": {
            "tags": []
          },
          "execution_count": 5
        }
      ]
    },
    {
      "cell_type": "code",
      "metadata": {
        "id": "RB1Cb_PYCFrW"
      },
      "source": [
        "def filter_tags(s: str) -> str:\r\n",
        "    return re.sub(r'@[a-z]+\\s', '', s)\r\n",
        "\r\n",
        "df['Tweet'] = df['Tweet'].apply(filter_tags)"
      ],
      "execution_count": 6,
      "outputs": []
    },
    {
      "cell_type": "code",
      "metadata": {
        "colab": {
          "base_uri": "https://localhost:8080/",
          "height": 492
        },
        "id": "oYcGBt6x-Cct",
        "outputId": "a86651e6-f565-48da-d559-ad46e868cadb"
      },
      "source": [
        "from string import punctuation as pun\r\n",
        "import nltk\r\n",
        "from nltk.tokenize.toktok import ToktokTokenizer\r\n",
        "tokenizer = ToktokTokenizer()\r\n",
        "nltk.download('stopwords')\r\n",
        "stopword_list = nltk.corpus.stopwords.words('english')\r\n",
        "\r\n",
        "stopword_list.remove('no')\r\n",
        "stopword_list.remove('not')\r\n",
        "print(\"The stopwords are \", stopword_list)\r\n",
        "print(\"The punctuation symbols are \", pun)\r\n",
        "\r\n",
        "def stopwords_removal(text):\r\n",
        "  tokens = tokenizer.tokenize(text)\r\n",
        "  tokens = [token.strip() for token in tokens]\r\n",
        "  filtered_tokens = [token for token in tokens if token not in stopword_list]\r\n",
        "  filtered_tokens = [token for token in filtered_tokens if token not in pun and len(token) > 2]\r\n",
        "  filtered_tokens = [token for token in filtered_tokens if token == ' ' or token.isalnum()]\r\n",
        "#   print(filtered_tokens)\r\n",
        "  filtered_text = ' '.join(filtered_tokens)\r\n",
        "  return filtered_text\r\n",
        "\r\n",
        "df['Tweet'] = df['Tweet'].apply(lambda x: stopwords_removal(x))\r\n",
        "df"
      ],
      "execution_count": 7,
      "outputs": [
        {
          "output_type": "stream",
          "text": [
            "[nltk_data] Downloading package stopwords to /root/nltk_data...\n",
            "[nltk_data]   Package stopwords is already up-to-date!\n",
            "The stopwords are  ['i', 'me', 'my', 'myself', 'we', 'our', 'ours', 'ourselves', 'you', \"you're\", \"you've\", \"you'll\", \"you'd\", 'your', 'yours', 'yourself', 'yourselves', 'he', 'him', 'his', 'himself', 'she', \"she's\", 'her', 'hers', 'herself', 'it', \"it's\", 'its', 'itself', 'they', 'them', 'their', 'theirs', 'themselves', 'what', 'which', 'who', 'whom', 'this', 'that', \"that'll\", 'these', 'those', 'am', 'is', 'are', 'was', 'were', 'be', 'been', 'being', 'have', 'has', 'had', 'having', 'do', 'does', 'did', 'doing', 'a', 'an', 'the', 'and', 'but', 'if', 'or', 'because', 'as', 'until', 'while', 'of', 'at', 'by', 'for', 'with', 'about', 'against', 'between', 'into', 'through', 'during', 'before', 'after', 'above', 'below', 'to', 'from', 'up', 'down', 'in', 'out', 'on', 'off', 'over', 'under', 'again', 'further', 'then', 'once', 'here', 'there', 'when', 'where', 'why', 'how', 'all', 'any', 'both', 'each', 'few', 'more', 'most', 'other', 'some', 'such', 'nor', 'only', 'own', 'same', 'so', 'than', 'too', 'very', 's', 't', 'can', 'will', 'just', 'don', \"don't\", 'should', \"should've\", 'now', 'd', 'll', 'm', 'o', 're', 've', 'y', 'ain', 'aren', \"aren't\", 'couldn', \"couldn't\", 'didn', \"didn't\", 'doesn', \"doesn't\", 'hadn', \"hadn't\", 'hasn', \"hasn't\", 'haven', \"haven't\", 'isn', \"isn't\", 'ma', 'mightn', \"mightn't\", 'mustn', \"mustn't\", 'needn', \"needn't\", 'shan', \"shan't\", 'shouldn', \"shouldn't\", 'wasn', \"wasn't\", 'weren', \"weren't\", 'won', \"won't\", 'wouldn', \"wouldn't\"]\n",
            "The punctuation symbols are  !\"#$%&'()*+,-./:;<=>?@[\\]^_`{|}~\n"
          ],
          "name": "stdout"
        },
        {
          "output_type": "execute_result",
          "data": {
            "text/html": [
              "<div>\n",
              "<style scoped>\n",
              "    .dataframe tbody tr th:only-of-type {\n",
              "        vertical-align: middle;\n",
              "    }\n",
              "\n",
              "    .dataframe tbody tr th {\n",
              "        vertical-align: top;\n",
              "    }\n",
              "\n",
              "    .dataframe thead th {\n",
              "        text-align: right;\n",
              "    }\n",
              "</style>\n",
              "<table border=\"1\" class=\"dataframe\">\n",
              "  <thead>\n",
              "    <tr style=\"text-align: right;\">\n",
              "      <th></th>\n",
              "      <th>Polarity</th>\n",
              "      <th>Tweet</th>\n",
              "    </tr>\n",
              "  </thead>\n",
              "  <tbody>\n",
              "    <tr>\n",
              "      <th>0</th>\n",
              "      <td>4</td>\n",
              "      <td>Reading kindle2 Love Lee childs good read</td>\n",
              "    </tr>\n",
              "    <tr>\n",
              "      <th>1</th>\n",
              "      <td>4</td>\n",
              "      <td>first assesment fucking rocks</td>\n",
              "    </tr>\n",
              "    <tr>\n",
              "      <th>2</th>\n",
              "      <td>4</td>\n",
              "      <td>You love mine months never looked The new big ...</td>\n",
              "    </tr>\n",
              "    <tr>\n",
              "      <th>3</th>\n",
              "      <td>4</td>\n",
              "      <td>Fair But Kindle2 think perfect</td>\n",
              "    </tr>\n",
              "    <tr>\n",
              "      <th>4</th>\n",
              "      <td>4</td>\n",
              "      <td>quite happy Kindle2</td>\n",
              "    </tr>\n",
              "    <tr>\n",
              "      <th>...</th>\n",
              "      <td>...</td>\n",
              "      <td>...</td>\n",
              "    </tr>\n",
              "    <tr>\n",
              "      <th>492</th>\n",
              "      <td>2</td>\n",
              "      <td>Ask Programming LaTeX InDesign submitted calci...</td>\n",
              "    </tr>\n",
              "    <tr>\n",
              "      <th>493</th>\n",
              "      <td>0</td>\n",
              "      <td>note hate hate hate There said hate All TEXN3R...</td>\n",
              "    </tr>\n",
              "    <tr>\n",
              "      <th>494</th>\n",
              "      <td>4</td>\n",
              "      <td>Ahhh back text editing LaTeX</td>\n",
              "    </tr>\n",
              "    <tr>\n",
              "      <th>495</th>\n",
              "      <td>0</td>\n",
              "      <td>Trouble Iran Iran far</td>\n",
              "    </tr>\n",
              "    <tr>\n",
              "      <th>496</th>\n",
              "      <td>0</td>\n",
              "      <td>Reading tweets coming Iran The whole thing ter...</td>\n",
              "    </tr>\n",
              "  </tbody>\n",
              "</table>\n",
              "<p>497 rows × 2 columns</p>\n",
              "</div>"
            ],
            "text/plain": [
              "     Polarity                                              Tweet\n",
              "0           4          Reading kindle2 Love Lee childs good read\n",
              "1           4                      first assesment fucking rocks\n",
              "2           4  You love mine months never looked The new big ...\n",
              "3           4                     Fair But Kindle2 think perfect\n",
              "4           4                                quite happy Kindle2\n",
              "..        ...                                                ...\n",
              "492         2  Ask Programming LaTeX InDesign submitted calci...\n",
              "493         0  note hate hate hate There said hate All TEXN3R...\n",
              "494         4                       Ahhh back text editing LaTeX\n",
              "495         0                              Trouble Iran Iran far\n",
              "496         0  Reading tweets coming Iran The whole thing ter...\n",
              "\n",
              "[497 rows x 2 columns]"
            ]
          },
          "metadata": {
            "tags": []
          },
          "execution_count": 7
        }
      ]
    },
    {
      "cell_type": "code",
      "metadata": {
        "colab": {
          "base_uri": "https://localhost:8080/",
          "height": 437
        },
        "id": "ewb-dDQN-qNX",
        "outputId": "7d2d9260-71f3-4c3f-a58d-fed29becbbfe"
      },
      "source": [
        "from nltk.stem import PorterStemmer\r\n",
        "from nltk.tokenize import word_tokenize\r\n",
        "nltk.download('punkt')\r\n",
        "stemmer=PorterStemmer()\r\n",
        "\r\n",
        "def stemming(text):\r\n",
        "  updated=[]\r\n",
        "  str=nltk.word_tokenize(text)\r\n",
        "  for word in str:\r\n",
        "   updated.append(stemmer.stem(word))\r\n",
        "  sentence=' '.join(updated)\r\n",
        "  return sentence\r\n",
        "\r\n",
        "df['Tweet'] = df['Tweet'].apply(lambda x: stemming(x))\r\n",
        "df"
      ],
      "execution_count": 8,
      "outputs": [
        {
          "output_type": "stream",
          "text": [
            "[nltk_data] Downloading package punkt to /root/nltk_data...\n",
            "[nltk_data]   Package punkt is already up-to-date!\n"
          ],
          "name": "stdout"
        },
        {
          "output_type": "execute_result",
          "data": {
            "text/html": [
              "<div>\n",
              "<style scoped>\n",
              "    .dataframe tbody tr th:only-of-type {\n",
              "        vertical-align: middle;\n",
              "    }\n",
              "\n",
              "    .dataframe tbody tr th {\n",
              "        vertical-align: top;\n",
              "    }\n",
              "\n",
              "    .dataframe thead th {\n",
              "        text-align: right;\n",
              "    }\n",
              "</style>\n",
              "<table border=\"1\" class=\"dataframe\">\n",
              "  <thead>\n",
              "    <tr style=\"text-align: right;\">\n",
              "      <th></th>\n",
              "      <th>Polarity</th>\n",
              "      <th>Tweet</th>\n",
              "    </tr>\n",
              "  </thead>\n",
              "  <tbody>\n",
              "    <tr>\n",
              "      <th>0</th>\n",
              "      <td>4</td>\n",
              "      <td>read kindle2 love lee child good read</td>\n",
              "    </tr>\n",
              "    <tr>\n",
              "      <th>1</th>\n",
              "      <td>4</td>\n",
              "      <td>first asses fuck rock</td>\n",
              "    </tr>\n",
              "    <tr>\n",
              "      <th>2</th>\n",
              "      <td>4</td>\n",
              "      <td>you love mine month never look the new big one...</td>\n",
              "    </tr>\n",
              "    <tr>\n",
              "      <th>3</th>\n",
              "      <td>4</td>\n",
              "      <td>fair but kindle2 think perfect</td>\n",
              "    </tr>\n",
              "    <tr>\n",
              "      <th>4</th>\n",
              "      <td>4</td>\n",
              "      <td>quit happi kindle2</td>\n",
              "    </tr>\n",
              "    <tr>\n",
              "      <th>...</th>\n",
              "      <td>...</td>\n",
              "      <td>...</td>\n",
              "    </tr>\n",
              "    <tr>\n",
              "      <th>492</th>\n",
              "      <td>2</td>\n",
              "      <td>ask program latex indesign submit calcio1 link...</td>\n",
              "    </tr>\n",
              "    <tr>\n",
              "      <th>493</th>\n",
              "      <td>0</td>\n",
              "      <td>note hate hate hate there said hate all texn3r...</td>\n",
              "    </tr>\n",
              "    <tr>\n",
              "      <th>494</th>\n",
              "      <td>4</td>\n",
              "      <td>ahhh back text edit latex</td>\n",
              "    </tr>\n",
              "    <tr>\n",
              "      <th>495</th>\n",
              "      <td>0</td>\n",
              "      <td>troubl iran iran far</td>\n",
              "    </tr>\n",
              "    <tr>\n",
              "      <th>496</th>\n",
              "      <td>0</td>\n",
              "      <td>read tweet come iran the whole thing terrifi i...</td>\n",
              "    </tr>\n",
              "  </tbody>\n",
              "</table>\n",
              "<p>497 rows × 2 columns</p>\n",
              "</div>"
            ],
            "text/plain": [
              "     Polarity                                              Tweet\n",
              "0           4              read kindle2 love lee child good read\n",
              "1           4                              first asses fuck rock\n",
              "2           4  you love mine month never look the new big one...\n",
              "3           4                     fair but kindle2 think perfect\n",
              "4           4                                 quit happi kindle2\n",
              "..        ...                                                ...\n",
              "492         2  ask program latex indesign submit calcio1 link...\n",
              "493         0  note hate hate hate there said hate all texn3r...\n",
              "494         4                          ahhh back text edit latex\n",
              "495         0                               troubl iran iran far\n",
              "496         0  read tweet come iran the whole thing terrifi i...\n",
              "\n",
              "[497 rows x 2 columns]"
            ]
          },
          "metadata": {
            "tags": []
          },
          "execution_count": 8
        }
      ]
    },
    {
      "cell_type": "code",
      "metadata": {
        "colab": {
          "base_uri": "https://localhost:8080/",
          "height": 437
        },
        "id": "clwnM-Ym-6um",
        "outputId": "edf2913f-037a-4cdd-dbe5-02f1ecfb0ef1"
      },
      "source": [
        "nltk.download('wordnet')\r\n",
        "from nltk.stem import WordNetLemmatizer\r\n",
        "lemmatizer = WordNetLemmatizer()\r\n",
        "def lemmatize(text):\r\n",
        "  str=nltk.word_tokenize(text)\r\n",
        "  updated=[]\r\n",
        "  for word in str:\r\n",
        "    updated.append(lemmatizer.lemmatize(word))\r\n",
        "  sentence=' '.join(updated)\r\n",
        "  return sentence\r\n",
        "\r\n",
        "df['Tweet'] = df['Tweet'].apply(lambda x: lemmatize(x))\r\n",
        "df"
      ],
      "execution_count": 9,
      "outputs": [
        {
          "output_type": "stream",
          "text": [
            "[nltk_data] Downloading package wordnet to /root/nltk_data...\n",
            "[nltk_data]   Package wordnet is already up-to-date!\n"
          ],
          "name": "stdout"
        },
        {
          "output_type": "execute_result",
          "data": {
            "text/html": [
              "<div>\n",
              "<style scoped>\n",
              "    .dataframe tbody tr th:only-of-type {\n",
              "        vertical-align: middle;\n",
              "    }\n",
              "\n",
              "    .dataframe tbody tr th {\n",
              "        vertical-align: top;\n",
              "    }\n",
              "\n",
              "    .dataframe thead th {\n",
              "        text-align: right;\n",
              "    }\n",
              "</style>\n",
              "<table border=\"1\" class=\"dataframe\">\n",
              "  <thead>\n",
              "    <tr style=\"text-align: right;\">\n",
              "      <th></th>\n",
              "      <th>Polarity</th>\n",
              "      <th>Tweet</th>\n",
              "    </tr>\n",
              "  </thead>\n",
              "  <tbody>\n",
              "    <tr>\n",
              "      <th>0</th>\n",
              "      <td>4</td>\n",
              "      <td>read kindle2 love lee child good read</td>\n",
              "    </tr>\n",
              "    <tr>\n",
              "      <th>1</th>\n",
              "      <td>4</td>\n",
              "      <td>first ass fuck rock</td>\n",
              "    </tr>\n",
              "    <tr>\n",
              "      <th>2</th>\n",
              "      <td>4</td>\n",
              "      <td>you love mine month never look the new big one...</td>\n",
              "    </tr>\n",
              "    <tr>\n",
              "      <th>3</th>\n",
              "      <td>4</td>\n",
              "      <td>fair but kindle2 think perfect</td>\n",
              "    </tr>\n",
              "    <tr>\n",
              "      <th>4</th>\n",
              "      <td>4</td>\n",
              "      <td>quit happi kindle2</td>\n",
              "    </tr>\n",
              "    <tr>\n",
              "      <th>...</th>\n",
              "      <td>...</td>\n",
              "      <td>...</td>\n",
              "    </tr>\n",
              "    <tr>\n",
              "      <th>492</th>\n",
              "      <td>2</td>\n",
              "      <td>ask program latex indesign submit calcio1 link...</td>\n",
              "    </tr>\n",
              "    <tr>\n",
              "      <th>493</th>\n",
              "      <td>0</td>\n",
              "      <td>note hate hate hate there said hate all texn3r...</td>\n",
              "    </tr>\n",
              "    <tr>\n",
              "      <th>494</th>\n",
              "      <td>4</td>\n",
              "      <td>ahhh back text edit latex</td>\n",
              "    </tr>\n",
              "    <tr>\n",
              "      <th>495</th>\n",
              "      <td>0</td>\n",
              "      <td>troubl iran iran far</td>\n",
              "    </tr>\n",
              "    <tr>\n",
              "      <th>496</th>\n",
              "      <td>0</td>\n",
              "      <td>read tweet come iran the whole thing terrifi i...</td>\n",
              "    </tr>\n",
              "  </tbody>\n",
              "</table>\n",
              "<p>497 rows × 2 columns</p>\n",
              "</div>"
            ],
            "text/plain": [
              "     Polarity                                              Tweet\n",
              "0           4              read kindle2 love lee child good read\n",
              "1           4                                first ass fuck rock\n",
              "2           4  you love mine month never look the new big one...\n",
              "3           4                     fair but kindle2 think perfect\n",
              "4           4                                 quit happi kindle2\n",
              "..        ...                                                ...\n",
              "492         2  ask program latex indesign submit calcio1 link...\n",
              "493         0  note hate hate hate there said hate all texn3r...\n",
              "494         4                          ahhh back text edit latex\n",
              "495         0                               troubl iran iran far\n",
              "496         0  read tweet come iran the whole thing terrifi i...\n",
              "\n",
              "[497 rows x 2 columns]"
            ]
          },
          "metadata": {
            "tags": []
          },
          "execution_count": 9
        }
      ]
    },
    {
      "cell_type": "code",
      "metadata": {
        "colab": {
          "base_uri": "https://localhost:8080/",
          "height": 402
        },
        "id": "fcQl8Pwi_T01",
        "outputId": "fc75c0f2-b5a2-4029-cc88-1f5cff0cb6a0"
      },
      "source": [
        "df['compound'] = df['Tweet'].apply(lambda x: (vs.polarity_scores(x)['compound']))\r\n",
        "df['vader analysis'] = df['compound'].apply(lambda x: 'pos' if x >= 0 else 'neg')\r\n",
        "\r\n",
        "# Final result is what i will be using for training\r\n",
        "df['Final Result']=df['compound'].apply(lambda x: 'pos' if x > 0.5 else 'neu' if 0 <= x <= 0.5 else 'neg')\r\n",
        "\r\n",
        "df"
      ],
      "execution_count": 10,
      "outputs": [
        {
          "output_type": "execute_result",
          "data": {
            "text/html": [
              "<div>\n",
              "<style scoped>\n",
              "    .dataframe tbody tr th:only-of-type {\n",
              "        vertical-align: middle;\n",
              "    }\n",
              "\n",
              "    .dataframe tbody tr th {\n",
              "        vertical-align: top;\n",
              "    }\n",
              "\n",
              "    .dataframe thead th {\n",
              "        text-align: right;\n",
              "    }\n",
              "</style>\n",
              "<table border=\"1\" class=\"dataframe\">\n",
              "  <thead>\n",
              "    <tr style=\"text-align: right;\">\n",
              "      <th></th>\n",
              "      <th>Polarity</th>\n",
              "      <th>Tweet</th>\n",
              "      <th>compound</th>\n",
              "      <th>vader analysis</th>\n",
              "      <th>Final Result</th>\n",
              "    </tr>\n",
              "  </thead>\n",
              "  <tbody>\n",
              "    <tr>\n",
              "      <th>0</th>\n",
              "      <td>4</td>\n",
              "      <td>read kindle2 love lee child good read</td>\n",
              "      <td>0.7964</td>\n",
              "      <td>pos</td>\n",
              "      <td>pos</td>\n",
              "    </tr>\n",
              "    <tr>\n",
              "      <th>1</th>\n",
              "      <td>4</td>\n",
              "      <td>first ass fuck rock</td>\n",
              "      <td>-0.7906</td>\n",
              "      <td>neg</td>\n",
              "      <td>neg</td>\n",
              "    </tr>\n",
              "    <tr>\n",
              "      <th>2</th>\n",
              "      <td>4</td>\n",
              "      <td>you love mine month never look the new big one...</td>\n",
              "      <td>0.7579</td>\n",
              "      <td>pos</td>\n",
              "      <td>pos</td>\n",
              "    </tr>\n",
              "    <tr>\n",
              "      <th>3</th>\n",
              "      <td>4</td>\n",
              "      <td>fair but kindle2 think perfect</td>\n",
              "      <td>0.7717</td>\n",
              "      <td>pos</td>\n",
              "      <td>pos</td>\n",
              "    </tr>\n",
              "    <tr>\n",
              "      <th>4</th>\n",
              "      <td>4</td>\n",
              "      <td>quit happi kindle2</td>\n",
              "      <td>0.0000</td>\n",
              "      <td>pos</td>\n",
              "      <td>neu</td>\n",
              "    </tr>\n",
              "    <tr>\n",
              "      <th>...</th>\n",
              "      <td>...</td>\n",
              "      <td>...</td>\n",
              "      <td>...</td>\n",
              "      <td>...</td>\n",
              "      <td>...</td>\n",
              "    </tr>\n",
              "    <tr>\n",
              "      <th>492</th>\n",
              "      <td>2</td>\n",
              "      <td>ask program latex indesign submit calcio1 link...</td>\n",
              "      <td>0.0000</td>\n",
              "      <td>pos</td>\n",
              "      <td>neu</td>\n",
              "    </tr>\n",
              "    <tr>\n",
              "      <th>493</th>\n",
              "      <td>0</td>\n",
              "      <td>note hate hate hate there said hate all texn3r...</td>\n",
              "      <td>-0.9661</td>\n",
              "      <td>neg</td>\n",
              "      <td>neg</td>\n",
              "    </tr>\n",
              "    <tr>\n",
              "      <th>494</th>\n",
              "      <td>4</td>\n",
              "      <td>ahhh back text edit latex</td>\n",
              "      <td>0.0000</td>\n",
              "      <td>pos</td>\n",
              "      <td>neu</td>\n",
              "    </tr>\n",
              "    <tr>\n",
              "      <th>495</th>\n",
              "      <td>0</td>\n",
              "      <td>troubl iran iran far</td>\n",
              "      <td>0.0000</td>\n",
              "      <td>pos</td>\n",
              "      <td>neu</td>\n",
              "    </tr>\n",
              "    <tr>\n",
              "      <th>496</th>\n",
              "      <td>0</td>\n",
              "      <td>read tweet come iran the whole thing terrifi i...</td>\n",
              "      <td>-0.4767</td>\n",
              "      <td>neg</td>\n",
              "      <td>neg</td>\n",
              "    </tr>\n",
              "  </tbody>\n",
              "</table>\n",
              "<p>497 rows × 5 columns</p>\n",
              "</div>"
            ],
            "text/plain": [
              "     Polarity  ... Final Result\n",
              "0           4  ...          pos\n",
              "1           4  ...          neg\n",
              "2           4  ...          pos\n",
              "3           4  ...          pos\n",
              "4           4  ...          neu\n",
              "..        ...  ...          ...\n",
              "492         2  ...          neu\n",
              "493         0  ...          neg\n",
              "494         4  ...          neu\n",
              "495         0  ...          neu\n",
              "496         0  ...          neg\n",
              "\n",
              "[497 rows x 5 columns]"
            ]
          },
          "metadata": {
            "tags": []
          },
          "execution_count": 10
        }
      ]
    },
    {
      "cell_type": "code",
      "metadata": {
        "id": "XrtMYpEqAoPm"
      },
      "source": [
        "from sklearn.model_selection import train_test_split\r\n",
        "\r\n",
        "x=df['Tweet']\r\n",
        "y=df['Final Result']\r\n",
        "\r\n",
        "x_train, x_test, y_train, y_test = train_test_split(x, y, test_size=0.3, stratify=y)\r\n"
      ],
      "execution_count": 11,
      "outputs": []
    },
    {
      "cell_type": "code",
      "metadata": {
        "id": "OwsxOvZvBAq9"
      },
      "source": [
        "from sklearn.pipeline import Pipeline\r\n",
        "from sklearn.feature_extraction.text import TfidfVectorizer\r\n",
        "from sklearn.svm import SVC\r\n",
        "\r\n",
        "text_model=Pipeline([('tfid',TfidfVectorizer()),('model',SVC())])"
      ],
      "execution_count": 12,
      "outputs": []
    },
    {
      "cell_type": "code",
      "metadata": {
        "colab": {
          "base_uri": "https://localhost:8080/"
        },
        "id": "2lYAIM9zBMZX",
        "outputId": "3607b06b-174b-4ad4-ab7a-05befcdf2018"
      },
      "source": [
        "text_model.fit(x_train, y_train)"
      ],
      "execution_count": 13,
      "outputs": [
        {
          "output_type": "execute_result",
          "data": {
            "text/plain": [
              "Pipeline(memory=None,\n",
              "         steps=[('tfid',\n",
              "                 TfidfVectorizer(analyzer='word', binary=False,\n",
              "                                 decode_error='strict',\n",
              "                                 dtype=<class 'numpy.float64'>,\n",
              "                                 encoding='utf-8', input='content',\n",
              "                                 lowercase=True, max_df=1.0, max_features=None,\n",
              "                                 min_df=1, ngram_range=(1, 1), norm='l2',\n",
              "                                 preprocessor=None, smooth_idf=True,\n",
              "                                 stop_words=None, strip_accents=None,\n",
              "                                 sublinear_tf=False,\n",
              "                                 token_pattern='(?u)\\\\b\\\\w\\\\w+\\\\b',\n",
              "                                 tokenizer=None, use_idf=True,\n",
              "                                 vocabulary=None)),\n",
              "                ('model',\n",
              "                 SVC(C=1.0, break_ties=False, cache_size=200, class_weight=None,\n",
              "                     coef0=0.0, decision_function_shape='ovr', degree=3,\n",
              "                     gamma='scale', kernel='rbf', max_iter=-1,\n",
              "                     probability=False, random_state=None, shrinking=True,\n",
              "                     tol=0.001, verbose=False))],\n",
              "         verbose=False)"
            ]
          },
          "metadata": {
            "tags": []
          },
          "execution_count": 13
        }
      ]
    },
    {
      "cell_type": "code",
      "metadata": {
        "colab": {
          "base_uri": "https://localhost:8080/"
        },
        "id": "rPVpri09BcwX",
        "outputId": "8bf174bf-00b1-4ded-f890-918091663773"
      },
      "source": [
        "y_pred = text_model.predict(x_test)\r\n",
        "y_pred"
      ],
      "execution_count": 14,
      "outputs": [
        {
          "output_type": "execute_result",
          "data": {
            "text/plain": [
              "array(['neu', 'neu', 'neu', 'neu', 'neu', 'neu', 'neu', 'neu', 'neu',\n",
              "       'neu', 'neu', 'neu', 'neu', 'neu', 'neu', 'neu', 'neu', 'neu',\n",
              "       'pos', 'neu', 'neu', 'neu', 'neu', 'neu', 'neu', 'neu', 'neg',\n",
              "       'neu', 'neu', 'neu', 'neu', 'neu', 'neu', 'neu', 'pos', 'neu',\n",
              "       'neu', 'neu', 'neg', 'neu', 'neu', 'neu', 'neg', 'neu', 'neg',\n",
              "       'pos', 'neu', 'neu', 'neu', 'neu', 'neu', 'neu', 'neu', 'neu',\n",
              "       'neu', 'pos', 'neu', 'neu', 'neu', 'neu', 'pos', 'neu', 'neu',\n",
              "       'pos', 'neu', 'neu', 'neu', 'neu', 'neu', 'neu', 'neu', 'neu',\n",
              "       'neu', 'neu', 'neu', 'neu', 'neu', 'neu', 'neu', 'neu', 'neu',\n",
              "       'neu', 'neu', 'neu', 'neu', 'neu', 'neu', 'neu', 'neu', 'neu',\n",
              "       'neu', 'neu', 'neu', 'neu', 'neu', 'neg', 'neu', 'neu', 'neu',\n",
              "       'neu', 'neu', 'neu', 'neu', 'neu', 'neu', 'neu', 'neu', 'neu',\n",
              "       'neu', 'neu', 'neu', 'neu', 'neu', 'neu', 'neu', 'neu', 'neg',\n",
              "       'neg', 'neu', 'neu', 'neu', 'pos', 'pos', 'neu', 'neg', 'neu',\n",
              "       'neu', 'neu', 'neu', 'neu', 'neu', 'neu', 'neu', 'neu', 'neg',\n",
              "       'neu', 'neu', 'neg', 'neu', 'neg', 'neu', 'neu', 'neu', 'neu',\n",
              "       'neu', 'neu', 'neu', 'neu', 'neu', 'neu'], dtype=object)"
            ]
          },
          "metadata": {
            "tags": []
          },
          "execution_count": 14
        }
      ]
    },
    {
      "cell_type": "code",
      "metadata": {
        "colab": {
          "base_uri": "https://localhost:8080/"
        },
        "id": "wQujfKQ-Br1F",
        "outputId": "018f8ecf-74a8-4e7e-c853-e487d91dfc64"
      },
      "source": [
        "from sklearn.metrics import accuracy_score,confusion_matrix,classification_report\r\n",
        "\r\n",
        "print(confusion_matrix(y_pred, y_test))\r\n",
        "print(accuracy_score(y_pred, y_test) * 100)\r\n",
        "print(classification_report(y_pred,y_test))"
      ],
      "execution_count": 15,
      "outputs": [
        {
          "output_type": "stream",
          "text": [
            "[[ 7  4  0]\n",
            " [26 81 24]\n",
            " [ 1  0  7]]\n",
            "63.33333333333333\n",
            "              precision    recall  f1-score   support\n",
            "\n",
            "         neg       0.21      0.64      0.31        11\n",
            "         neu       0.95      0.62      0.75       131\n",
            "         pos       0.23      0.88      0.36         8\n",
            "\n",
            "    accuracy                           0.63       150\n",
            "   macro avg       0.46      0.71      0.47       150\n",
            "weighted avg       0.86      0.63      0.70       150\n",
            "\n"
          ],
          "name": "stdout"
        }
      ]
    },
    {
      "cell_type": "code",
      "metadata": {
        "id": "OLaeNOTStZup",
        "colab": {
          "base_uri": "https://localhost:8080/"
        },
        "outputId": "6ad48a82-8f2d-4e9c-d7e4-a6c710a1b9c9"
      },
      "source": [
        "!pip install streamlit\r\n",
        "!pip install pyngrok==4.1.1"
      ],
      "execution_count": 16,
      "outputs": [
        {
          "output_type": "stream",
          "text": [
            "Requirement already satisfied: streamlit in /usr/local/lib/python3.7/dist-packages (0.78.0)\n",
            "Requirement already satisfied: base58 in /usr/local/lib/python3.7/dist-packages (from streamlit) (2.1.0)\n",
            "Requirement already satisfied: altair>=3.2.0 in /usr/local/lib/python3.7/dist-packages (from streamlit) (4.1.0)\n",
            "Requirement already satisfied: click>=7.0 in /usr/local/lib/python3.7/dist-packages (from streamlit) (7.1.2)\n",
            "Requirement already satisfied: pyarrow; python_version < \"3.9\" in /usr/local/lib/python3.7/dist-packages (from streamlit) (3.0.0)\n",
            "Requirement already satisfied: pillow>=6.2.0 in /usr/local/lib/python3.7/dist-packages (from streamlit) (7.0.0)\n",
            "Requirement already satisfied: numpy in /usr/local/lib/python3.7/dist-packages (from streamlit) (1.19.5)\n",
            "Requirement already satisfied: toml in /usr/local/lib/python3.7/dist-packages (from streamlit) (0.10.2)\n",
            "Requirement already satisfied: validators in /usr/local/lib/python3.7/dist-packages (from streamlit) (0.18.2)\n",
            "Requirement already satisfied: gitpython in /usr/local/lib/python3.7/dist-packages (from streamlit) (3.1.14)\n",
            "Requirement already satisfied: pandas>=0.21.0 in /usr/local/lib/python3.7/dist-packages (from streamlit) (1.1.5)\n",
            "Requirement already satisfied: astor in /usr/local/lib/python3.7/dist-packages (from streamlit) (0.8.1)\n",
            "Requirement already satisfied: protobuf!=3.11,>=3.6.0 in /usr/local/lib/python3.7/dist-packages (from streamlit) (3.12.4)\n",
            "Requirement already satisfied: requests in /usr/local/lib/python3.7/dist-packages (from streamlit) (2.23.0)\n",
            "Requirement already satisfied: tzlocal in /usr/local/lib/python3.7/dist-packages (from streamlit) (1.5.1)\n",
            "Requirement already satisfied: cachetools>=4.0 in /usr/local/lib/python3.7/dist-packages (from streamlit) (4.2.1)\n",
            "Requirement already satisfied: python-dateutil in /usr/local/lib/python3.7/dist-packages (from streamlit) (2.8.1)\n",
            "Requirement already satisfied: watchdog; platform_system != \"Darwin\" in /usr/local/lib/python3.7/dist-packages (from streamlit) (2.0.2)\n",
            "Requirement already satisfied: tornado>=5.0 in /usr/local/lib/python3.7/dist-packages (from streamlit) (5.1.1)\n",
            "Requirement already satisfied: pydeck>=0.1.dev5 in /usr/local/lib/python3.7/dist-packages (from streamlit) (0.6.1)\n",
            "Requirement already satisfied: blinker in /usr/local/lib/python3.7/dist-packages (from streamlit) (1.4)\n",
            "Requirement already satisfied: packaging in /usr/local/lib/python3.7/dist-packages (from streamlit) (20.9)\n",
            "Requirement already satisfied: toolz in /usr/local/lib/python3.7/dist-packages (from altair>=3.2.0->streamlit) (0.11.1)\n",
            "Requirement already satisfied: entrypoints in /usr/local/lib/python3.7/dist-packages (from altair>=3.2.0->streamlit) (0.3)\n",
            "Requirement already satisfied: jinja2 in /usr/local/lib/python3.7/dist-packages (from altair>=3.2.0->streamlit) (2.11.3)\n",
            "Requirement already satisfied: jsonschema in /usr/local/lib/python3.7/dist-packages (from altair>=3.2.0->streamlit) (2.6.0)\n",
            "Requirement already satisfied: six>=1.4.0 in /usr/local/lib/python3.7/dist-packages (from validators->streamlit) (1.15.0)\n",
            "Requirement already satisfied: decorator>=3.4.0 in /usr/local/lib/python3.7/dist-packages (from validators->streamlit) (4.4.2)\n",
            "Requirement already satisfied: gitdb<5,>=4.0.1 in /usr/local/lib/python3.7/dist-packages (from gitpython->streamlit) (4.0.5)\n",
            "Requirement already satisfied: pytz>=2017.2 in /usr/local/lib/python3.7/dist-packages (from pandas>=0.21.0->streamlit) (2018.9)\n",
            "Requirement already satisfied: setuptools in /usr/local/lib/python3.7/dist-packages (from protobuf!=3.11,>=3.6.0->streamlit) (54.0.0)\n",
            "Requirement already satisfied: urllib3!=1.25.0,!=1.25.1,<1.26,>=1.21.1 in /usr/local/lib/python3.7/dist-packages (from requests->streamlit) (1.24.3)\n",
            "Requirement already satisfied: certifi>=2017.4.17 in /usr/local/lib/python3.7/dist-packages (from requests->streamlit) (2020.12.5)\n",
            "Requirement already satisfied: chardet<4,>=3.0.2 in /usr/local/lib/python3.7/dist-packages (from requests->streamlit) (3.0.4)\n",
            "Requirement already satisfied: idna<3,>=2.5 in /usr/local/lib/python3.7/dist-packages (from requests->streamlit) (2.10)\n",
            "Requirement already satisfied: traitlets>=4.3.2 in /usr/local/lib/python3.7/dist-packages (from pydeck>=0.1.dev5->streamlit) (5.0.5)\n",
            "Requirement already satisfied: ipykernel>=5.1.2; python_version >= \"3.4\" in /usr/local/lib/python3.7/dist-packages (from pydeck>=0.1.dev5->streamlit) (5.5.0)\n",
            "Requirement already satisfied: ipywidgets>=7.0.0 in /usr/local/lib/python3.7/dist-packages (from pydeck>=0.1.dev5->streamlit) (7.6.3)\n",
            "Requirement already satisfied: pyparsing>=2.0.2 in /usr/local/lib/python3.7/dist-packages (from packaging->streamlit) (2.4.7)\n",
            "Requirement already satisfied: MarkupSafe>=0.23 in /usr/local/lib/python3.7/dist-packages (from jinja2->altair>=3.2.0->streamlit) (1.1.1)\n",
            "Requirement already satisfied: smmap<4,>=3.0.1 in /usr/local/lib/python3.7/dist-packages (from gitdb<5,>=4.0.1->gitpython->streamlit) (3.0.5)\n",
            "Requirement already satisfied: ipython-genutils in /usr/local/lib/python3.7/dist-packages (from traitlets>=4.3.2->pydeck>=0.1.dev5->streamlit) (0.2.0)\n",
            "Requirement already satisfied: jupyter-client in /usr/local/lib/python3.7/dist-packages (from ipykernel>=5.1.2; python_version >= \"3.4\"->pydeck>=0.1.dev5->streamlit) (5.3.5)\n",
            "Requirement already satisfied: ipython>=5.0.0 in /usr/local/lib/python3.7/dist-packages (from ipykernel>=5.1.2; python_version >= \"3.4\"->pydeck>=0.1.dev5->streamlit) (5.5.0)\n",
            "Requirement already satisfied: widgetsnbextension~=3.5.0 in /usr/local/lib/python3.7/dist-packages (from ipywidgets>=7.0.0->pydeck>=0.1.dev5->streamlit) (3.5.1)\n",
            "Requirement already satisfied: nbformat>=4.2.0 in /usr/local/lib/python3.7/dist-packages (from ipywidgets>=7.0.0->pydeck>=0.1.dev5->streamlit) (5.1.2)\n",
            "Requirement already satisfied: jupyterlab-widgets>=1.0.0; python_version >= \"3.6\" in /usr/local/lib/python3.7/dist-packages (from ipywidgets>=7.0.0->pydeck>=0.1.dev5->streamlit) (1.0.0)\n",
            "Requirement already satisfied: pyzmq>=13 in /usr/local/lib/python3.7/dist-packages (from jupyter-client->ipykernel>=5.1.2; python_version >= \"3.4\"->pydeck>=0.1.dev5->streamlit) (22.0.3)\n",
            "Requirement already satisfied: jupyter-core>=4.6.0 in /usr/local/lib/python3.7/dist-packages (from jupyter-client->ipykernel>=5.1.2; python_version >= \"3.4\"->pydeck>=0.1.dev5->streamlit) (4.7.1)\n",
            "Requirement already satisfied: pexpect; sys_platform != \"win32\" in /usr/local/lib/python3.7/dist-packages (from ipython>=5.0.0->ipykernel>=5.1.2; python_version >= \"3.4\"->pydeck>=0.1.dev5->streamlit) (4.8.0)\n",
            "Requirement already satisfied: simplegeneric>0.8 in /usr/local/lib/python3.7/dist-packages (from ipython>=5.0.0->ipykernel>=5.1.2; python_version >= \"3.4\"->pydeck>=0.1.dev5->streamlit) (0.8.1)\n",
            "Requirement already satisfied: pygments in /usr/local/lib/python3.7/dist-packages (from ipython>=5.0.0->ipykernel>=5.1.2; python_version >= \"3.4\"->pydeck>=0.1.dev5->streamlit) (2.6.1)\n",
            "Requirement already satisfied: pickleshare in /usr/local/lib/python3.7/dist-packages (from ipython>=5.0.0->ipykernel>=5.1.2; python_version >= \"3.4\"->pydeck>=0.1.dev5->streamlit) (0.7.5)\n",
            "Requirement already satisfied: prompt-toolkit<2.0.0,>=1.0.4 in /usr/local/lib/python3.7/dist-packages (from ipython>=5.0.0->ipykernel>=5.1.2; python_version >= \"3.4\"->pydeck>=0.1.dev5->streamlit) (1.0.18)\n",
            "Requirement already satisfied: notebook>=4.4.1 in /usr/local/lib/python3.7/dist-packages (from widgetsnbextension~=3.5.0->ipywidgets>=7.0.0->pydeck>=0.1.dev5->streamlit) (5.3.1)\n",
            "Requirement already satisfied: ptyprocess>=0.5 in /usr/local/lib/python3.7/dist-packages (from pexpect; sys_platform != \"win32\"->ipython>=5.0.0->ipykernel>=5.1.2; python_version >= \"3.4\"->pydeck>=0.1.dev5->streamlit) (0.7.0)\n",
            "Requirement already satisfied: wcwidth in /usr/local/lib/python3.7/dist-packages (from prompt-toolkit<2.0.0,>=1.0.4->ipython>=5.0.0->ipykernel>=5.1.2; python_version >= \"3.4\"->pydeck>=0.1.dev5->streamlit) (0.2.5)\n",
            "Requirement already satisfied: Send2Trash in /usr/local/lib/python3.7/dist-packages (from notebook>=4.4.1->widgetsnbextension~=3.5.0->ipywidgets>=7.0.0->pydeck>=0.1.dev5->streamlit) (1.5.0)\n",
            "Requirement already satisfied: terminado>=0.8.1 in /usr/local/lib/python3.7/dist-packages (from notebook>=4.4.1->widgetsnbextension~=3.5.0->ipywidgets>=7.0.0->pydeck>=0.1.dev5->streamlit) (0.9.2)\n",
            "Requirement already satisfied: nbconvert in /usr/local/lib/python3.7/dist-packages (from notebook>=4.4.1->widgetsnbextension~=3.5.0->ipywidgets>=7.0.0->pydeck>=0.1.dev5->streamlit) (5.6.1)\n",
            "Requirement already satisfied: testpath in /usr/local/lib/python3.7/dist-packages (from nbconvert->notebook>=4.4.1->widgetsnbextension~=3.5.0->ipywidgets>=7.0.0->pydeck>=0.1.dev5->streamlit) (0.4.4)\n",
            "Requirement already satisfied: mistune<2,>=0.8.1 in /usr/local/lib/python3.7/dist-packages (from nbconvert->notebook>=4.4.1->widgetsnbextension~=3.5.0->ipywidgets>=7.0.0->pydeck>=0.1.dev5->streamlit) (0.8.4)\n",
            "Requirement already satisfied: bleach in /usr/local/lib/python3.7/dist-packages (from nbconvert->notebook>=4.4.1->widgetsnbextension~=3.5.0->ipywidgets>=7.0.0->pydeck>=0.1.dev5->streamlit) (3.3.0)\n",
            "Requirement already satisfied: defusedxml in /usr/local/lib/python3.7/dist-packages (from nbconvert->notebook>=4.4.1->widgetsnbextension~=3.5.0->ipywidgets>=7.0.0->pydeck>=0.1.dev5->streamlit) (0.6.0)\n",
            "Requirement already satisfied: pandocfilters>=1.4.1 in /usr/local/lib/python3.7/dist-packages (from nbconvert->notebook>=4.4.1->widgetsnbextension~=3.5.0->ipywidgets>=7.0.0->pydeck>=0.1.dev5->streamlit) (1.4.3)\n",
            "Requirement already satisfied: webencodings in /usr/local/lib/python3.7/dist-packages (from bleach->nbconvert->notebook>=4.4.1->widgetsnbextension~=3.5.0->ipywidgets>=7.0.0->pydeck>=0.1.dev5->streamlit) (0.5.1)\n",
            "Requirement already satisfied: pyngrok==4.1.1 in /usr/local/lib/python3.7/dist-packages (4.1.1)\n",
            "Requirement already satisfied: PyYAML in /usr/local/lib/python3.7/dist-packages (from pyngrok==4.1.1) (3.13)\n",
            "Requirement already satisfied: future in /usr/local/lib/python3.7/dist-packages (from pyngrok==4.1.1) (0.16.0)\n"
          ],
          "name": "stdout"
        }
      ]
    },
    {
      "cell_type": "code",
      "metadata": {
        "colab": {
          "base_uri": "https://localhost:8080/"
        },
        "id": "wHZffxFYrEcz",
        "outputId": "41c5caae-aaa3-438f-b5e9-ee65274cc4e8"
      },
      "source": [
        "import streamlit as st\r\n",
        "\r\n",
        "st.title('Sentiment Analysis')"
      ],
      "execution_count": 17,
      "outputs": [
        {
          "output_type": "stream",
          "text": [
            "2021-03-08 14:23:17.538 WARNING root: \n",
            "  \u001b[33m\u001b[1mWarning:\u001b[0m to view this Streamlit app on a browser, run it with the following\n",
            "  command:\n",
            "\n",
            "    streamlit run /usr/local/lib/python3.7/dist-packages/ipykernel_launcher.py [ARGUMENTS]\n"
          ],
          "name": "stderr"
        },
        {
          "output_type": "execute_result",
          "data": {
            "text/plain": [
              "<streamlit.delta_generator.DeltaGenerator at 0x7fb9ccff66d0>"
            ]
          },
          "metadata": {
            "tags": []
          },
          "execution_count": 17
        }
      ]
    },
    {
      "cell_type": "code",
      "metadata": {
        "colab": {
          "base_uri": "https://localhost:8080/"
        },
        "id": "-4NOXifoItAz",
        "outputId": "7e77343a-b9af-480d-8eee-1f02bc973e68"
      },
      "source": [
        "%%writefile app.py\r\n",
        "import streamlit as st\r\n",
        "st.title('Sentiment Analysis')\r\n",
        "import pandas as pd\r\n",
        "import re\r\n",
        "\r\n",
        "def special_removal(text):\r\n",
        "  pattern=r'[^A-Za-z\\s]'\r\n",
        "  text=re.sub(pattern,' ',text)\r\n",
        "  return text\r\n",
        "\r\n",
        "import nltk\r\n",
        "from nltk.tokenize.toktok import ToktokTokenizer\r\n",
        "tokenizer=ToktokTokenizer()\r\n",
        "nltk.download('stopwords')\r\n",
        "stopword_list=nltk.corpus.stopwords.words('english')\r\n",
        "\r\n",
        "stopword_list.remove('no')\r\n",
        "stopword_list.remove('not')\r\n",
        "\r\n",
        "def stopwords_removal(text):\r\n",
        "  tokens=tokenizer.tokenize(text)\r\n",
        "  tokens=[token.strip() for token in tokens]\r\n",
        "  filtered_tokens=[token for token in tokens if token not in stopword_list]\r\n",
        "  filtered_tokens = [token for token in filtered_tokens if token not in pun and len(token) > 2]\r\n",
        "  filtered_tokens = [token for token in filtered_tokens if token == ' ' or token.isalnum()]\r\n",
        "  filtered_text=' '.join(filtered_tokens)\r\n",
        "  return filtered_text\r\n",
        "\r\n",
        "from nltk.stem import PorterStemmer\r\n",
        "from nltk.tokenize import word_tokenize\r\n",
        "nltk.download('punkt')\r\n",
        "stemmer=PorterStemmer()\r\n",
        "\r\n",
        "def stemming(text):\r\n",
        "  updated=[]\r\n",
        "  str=nltk.word_tokenize(text)\r\n",
        "  for word in str:\r\n",
        "   updated.append(stemmer.stem(word))\r\n",
        "  sentence=' '.join(updated)\r\n",
        "  return sentence\r\n",
        "\r\n",
        "nltk.download('wordnet')\r\n",
        "from nltk.stem import WordNetLemmatizer\r\n",
        "lemmatizer=WordNetLemmatizer()\r\n",
        "\r\n",
        "def lemmatize(text):\r\n",
        "  str=nltk.word_tokenize(text)\r\n",
        "  updated=[]\r\n",
        "  for word in str:\r\n",
        "    updated.append(lemmatizer.lemmatize(word))\r\n",
        "  sentence=' '.join(updated)\r\n",
        "  return sentence\r\n",
        "\r\n",
        "df=pd.read_csv('https://github.com/Ishgar14/Sentiment-Analysis---Major-Project/blob/main/testdata.manual.2009.06.14.csv')\r\n",
        "x=df['Tweet']\r\n",
        "y=df['Final Result']\r\n",
        "\r\n",
        "from sklearn.pipeline import Pipeline\r\n",
        "from sklearn.feature_extraction.text import TfidfVectorizer\r\n",
        "from sklearn.svm import SVC\r\n",
        "text_model=Pipeline([('tfid',TfidfVectorizer()),('model',SVC())])\r\n",
        "text_model.fit(x,y)\r\n",
        "\r\n",
        "select=st.text_input('Enter your msg')\r\n",
        "select=special_removal(select)\r\n",
        "select=stopwords_removal(select)\r\n",
        "select=stemming(select)\r\n",
        "select=lemmatize(select)\r\n",
        "op=text_model.predict([select])\r\n",
        "st.title(op)"
      ],
      "execution_count": 18,
      "outputs": [
        {
          "output_type": "stream",
          "text": [
            "Writing app.py\n"
          ],
          "name": "stdout"
        }
      ]
    },
    {
      "cell_type": "code",
      "metadata": {
        "colab": {
          "base_uri": "https://localhost:8080/",
          "height": 601
        },
        "id": "8dAYnliXs8Ag",
        "outputId": "37b13c83-3fd9-4732-f743-29de5b22f6cf"
      },
      "source": [
        "!nohup streamlit run app.py & \r\n",
        "from pyngrok import ngrok \r\n",
        "url = ngrok.connect(port='8051')\r\n",
        "url"
      ],
      "execution_count": 19,
      "outputs": [
        {
          "output_type": "stream",
          "text": [
            "nohup: appending output to 'nohup.out'\n"
          ],
          "name": "stdout"
        },
        {
          "output_type": "stream",
          "text": [
            "2021-03-08 14:23:19.817 INFO    pyngrok.process: ngrok process starting: 440\n",
            "2021-03-08 14:23:19.886 INFO    pyngrok.process: t=2021-03-08T14:23:19+0000 lvl=info msg=\"no configuration paths supplied\"\n",
            "\n",
            "2021-03-08 14:23:19.888 INFO    pyngrok.process: t=2021-03-08T14:23:19+0000 lvl=info msg=\"using configuration at default config path\" path=/root/.ngrok2/ngrok.yml\n",
            "\n",
            "2021-03-08 14:23:19.892 INFO    pyngrok.process: t=2021-03-08T14:23:19+0000 lvl=info msg=\"open config file\" path=/root/.ngrok2/ngrok.yml err=nil\n",
            "\n",
            "2021-03-08 14:23:19.897 INFO    pyngrok.process: t=2021-03-08T14:23:19+0000 lvl=info msg=\"starting web service\" obj=web addr=127.0.0.1:4040\n",
            "\n",
            "2021-03-08 14:23:20.050 INFO    pyngrok.process: t=2021-03-08T14:23:20+0000 lvl=info msg=\"tunnel session started\" obj=tunnels.session\n",
            "\n",
            "2021-03-08 14:23:20.052 INFO    pyngrok.process: t=2021-03-08T14:23:20+0000 lvl=info msg=\"client session established\" obj=csess id=6afd426fe607\n",
            "\n",
            "2021-03-08 14:23:20.057 INFO    pyngrok.process: ngrok process has started: http://127.0.0.1:4040\n",
            "2021-03-08 14:23:20.068 INFO    pyngrok.process: t=2021-03-08T14:23:20+0000 lvl=info msg=start pg=/api/tunnels id=5c5079c863851f54\n",
            "\n",
            "2021-03-08 14:23:20.078 INFO    pyngrok.process: t=2021-03-08T14:23:20+0000 lvl=info msg=end pg=/api/tunnels id=5c5079c863851f54 status=200 dur=676.692µs\n",
            "\n",
            "2021-03-08 14:23:20.079 INFO    pyngrok.process: t=2021-03-08T14:23:20+0000 lvl=info msg=start pg=/api/tunnels id=584656a808b89126\n",
            "\n",
            "2021-03-08 14:23:20.081 INFO    pyngrok.process: t=2021-03-08T14:23:20+0000 lvl=info msg=end pg=/api/tunnels id=584656a808b89126 status=200 dur=143.299µs\n",
            "\n",
            "2021-03-08 14:23:20.083 INFO    pyngrok.process: t=2021-03-08T14:23:20+0000 lvl=info msg=start pg=/api/tunnels id=aa81b8dbebf05c46\n",
            "\n",
            "2021-03-08 14:23:20.132 INFO    pyngrok.process: t=2021-03-08T14:23:20+0000 lvl=info msg=\"started tunnel\" obj=tunnels name=\"http-8051-4b6ddf5b-dc6e-4492-97bf-aa9846d3ea90 (http)\" addr=http://localhost:8051 url=http://6ea0c56ab36a.ngrok.io\n",
            "\n",
            "2021-03-08 14:23:20.138 INFO    pyngrok.process: t=2021-03-08T14:23:20+0000 lvl=info msg=\"started tunnel\" obj=tunnels name=http-8051-4b6ddf5b-dc6e-4492-97bf-aa9846d3ea90 addr=http://localhost:8051 url=https://6ea0c56ab36a.ngrok.io\n",
            "\n",
            "2021-03-08 14:23:20.139 INFO    pyngrok.process: t=2021-03-08T14:23:20+0000 lvl=info msg=end pg=/api/tunnels id=aa81b8dbebf05c46 status=201 dur=64.919795ms\n",
            "\n"
          ],
          "name": "stderr"
        },
        {
          "output_type": "execute_result",
          "data": {
            "application/vnd.google.colaboratory.intrinsic+json": {
              "type": "string"
            },
            "text/plain": [
              "'http://6ea0c56ab36a.ngrok.io'"
            ]
          },
          "metadata": {
            "tags": []
          },
          "execution_count": 19
        }
      ]
    }
  ]
}